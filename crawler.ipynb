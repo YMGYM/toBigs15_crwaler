{
 "cells": [
  {
   "cell_type": "markdown",
   "id": "tutorial-amateur",
   "metadata": {},
   "source": [
    "# 1. 소상공인시장 데이터 불러오기"
   ]
  },
  {
   "cell_type": "code",
   "execution_count": 244,
   "id": "breeding-twelve",
   "metadata": {},
   "outputs": [],
   "source": [
    "import pandas as pd\n",
    "from bs4 import BeautifulSoup\n",
    "import urllib\n",
    "import os"
   ]
  },
  {
   "cell_type": "code",
   "execution_count": 19,
   "id": "painful-happiness",
   "metadata": {},
   "outputs": [
    {
     "data": {
      "text/html": [
       "<div>\n",
       "<style scoped>\n",
       "    .dataframe tbody tr th:only-of-type {\n",
       "        vertical-align: middle;\n",
       "    }\n",
       "\n",
       "    .dataframe tbody tr th {\n",
       "        vertical-align: top;\n",
       "    }\n",
       "\n",
       "    .dataframe thead th {\n",
       "        text-align: right;\n",
       "    }\n",
       "</style>\n",
       "<table border=\"1\" class=\"dataframe\">\n",
       "  <thead>\n",
       "    <tr style=\"text-align: right;\">\n",
       "      <th></th>\n",
       "      <th>상가업소번호</th>\n",
       "      <th>상호명</th>\n",
       "      <th>지점명</th>\n",
       "      <th>상권업종대분류코드</th>\n",
       "      <th>상권업종대분류명</th>\n",
       "      <th>상권업종중분류코드</th>\n",
       "      <th>상권업종중분류명</th>\n",
       "      <th>상권업종소분류코드</th>\n",
       "      <th>상권업종소분류명</th>\n",
       "      <th>표준산업분류코드</th>\n",
       "      <th>...</th>\n",
       "      <th>건물관리번호</th>\n",
       "      <th>건물명</th>\n",
       "      <th>도로명주소</th>\n",
       "      <th>구우편번호</th>\n",
       "      <th>신우편번호</th>\n",
       "      <th>동정보</th>\n",
       "      <th>층정보</th>\n",
       "      <th>호정보</th>\n",
       "      <th>경도</th>\n",
       "      <th>위도</th>\n",
       "    </tr>\n",
       "  </thead>\n",
       "  <tbody>\n",
       "    <tr>\n",
       "      <th>0</th>\n",
       "      <td>17163092</td>\n",
       "      <td>도전최강달인왕만두</td>\n",
       "      <td>NaN</td>\n",
       "      <td>Q</td>\n",
       "      <td>음식</td>\n",
       "      <td>Q01</td>\n",
       "      <td>한식</td>\n",
       "      <td>Q01A01</td>\n",
       "      <td>한식/백반/한정식</td>\n",
       "      <td>I56111</td>\n",
       "      <td>...</td>\n",
       "      <td>1174010200102170000018014</td>\n",
       "      <td>고덕그라시움</td>\n",
       "      <td>서울특별시 강동구 고덕로 333</td>\n",
       "      <td>134082</td>\n",
       "      <td>5224.0</td>\n",
       "      <td>NaN</td>\n",
       "      <td>NaN</td>\n",
       "      <td>NaN</td>\n",
       "      <td>127.159471</td>\n",
       "      <td>37.556197</td>\n",
       "    </tr>\n",
       "    <tr>\n",
       "      <th>1</th>\n",
       "      <td>17120456</td>\n",
       "      <td>이때</td>\n",
       "      <td>NaN</td>\n",
       "      <td>Q</td>\n",
       "      <td>음식</td>\n",
       "      <td>Q01</td>\n",
       "      <td>한식</td>\n",
       "      <td>Q01A01</td>\n",
       "      <td>한식/백반/한정식</td>\n",
       "      <td>I56111</td>\n",
       "      <td>...</td>\n",
       "      <td>1144012400103900067027687</td>\n",
       "      <td>NaN</td>\n",
       "      <td>서울특별시 마포구 동교로38안길 7</td>\n",
       "      <td>121867</td>\n",
       "      <td>3982.0</td>\n",
       "      <td>NaN</td>\n",
       "      <td>NaN</td>\n",
       "      <td>NaN</td>\n",
       "      <td>126.924660</td>\n",
       "      <td>37.562176</td>\n",
       "    </tr>\n",
       "    <tr>\n",
       "      <th>2</th>\n",
       "      <td>17175350</td>\n",
       "      <td>L.A.D</td>\n",
       "      <td>NaN</td>\n",
       "      <td>Q</td>\n",
       "      <td>음식</td>\n",
       "      <td>Q01</td>\n",
       "      <td>한식</td>\n",
       "      <td>Q01A01</td>\n",
       "      <td>한식/백반/한정식</td>\n",
       "      <td>I56111</td>\n",
       "      <td>...</td>\n",
       "      <td>1144012000103950112010755</td>\n",
       "      <td>NaN</td>\n",
       "      <td>서울특별시 마포구 잔다리로3안길 23</td>\n",
       "      <td>121840</td>\n",
       "      <td>4043.0</td>\n",
       "      <td>NaN</td>\n",
       "      <td>NaN</td>\n",
       "      <td>NaN</td>\n",
       "      <td>126.919845</td>\n",
       "      <td>37.550689</td>\n",
       "    </tr>\n",
       "    <tr>\n",
       "      <th>3</th>\n",
       "      <td>17175311</td>\n",
       "      <td>제이씨에스푸드</td>\n",
       "      <td>NaN</td>\n",
       "      <td>Q</td>\n",
       "      <td>음식</td>\n",
       "      <td>Q01</td>\n",
       "      <td>한식</td>\n",
       "      <td>Q01A01</td>\n",
       "      <td>한식/백반/한정식</td>\n",
       "      <td>I56111</td>\n",
       "      <td>...</td>\n",
       "      <td>1162010200101180033018722</td>\n",
       "      <td>NaN</td>\n",
       "      <td>서울특별시 관악구 신림로14길 3</td>\n",
       "      <td>151856</td>\n",
       "      <td>8839.0</td>\n",
       "      <td>NaN</td>\n",
       "      <td>NaN</td>\n",
       "      <td>NaN</td>\n",
       "      <td>126.937790</td>\n",
       "      <td>37.471190</td>\n",
       "    </tr>\n",
       "    <tr>\n",
       "      <th>4</th>\n",
       "      <td>22767534</td>\n",
       "      <td>BYC상신점</td>\n",
       "      <td>상신점</td>\n",
       "      <td>D</td>\n",
       "      <td>소매</td>\n",
       "      <td>D05</td>\n",
       "      <td>의복의류</td>\n",
       "      <td>D05A07</td>\n",
       "      <td>셔츠/내의/속옷</td>\n",
       "      <td>NaN</td>\n",
       "      <td>...</td>\n",
       "      <td>1171011300100360000022458</td>\n",
       "      <td>성암빌딩</td>\n",
       "      <td>서울특별시 송파구 오금로 527</td>\n",
       "      <td>138110</td>\n",
       "      <td>5768.0</td>\n",
       "      <td>NaN</td>\n",
       "      <td>1</td>\n",
       "      <td>NaN</td>\n",
       "      <td>127.147321</td>\n",
       "      <td>37.493054</td>\n",
       "    </tr>\n",
       "  </tbody>\n",
       "</table>\n",
       "<p>5 rows × 39 columns</p>\n",
       "</div>"
      ],
      "text/plain": [
       "     상가업소번호        상호명  지점명 상권업종대분류코드 상권업종대분류명 상권업종중분류코드 상권업종중분류명 상권업종소분류코드  \\\n",
       "0  17163092  도전최강달인왕만두  NaN         Q       음식       Q01       한식    Q01A01   \n",
       "1  17120456         이때  NaN         Q       음식       Q01       한식    Q01A01   \n",
       "2  17175350      L.A.D  NaN         Q       음식       Q01       한식    Q01A01   \n",
       "3  17175311    제이씨에스푸드  NaN         Q       음식       Q01       한식    Q01A01   \n",
       "4  22767534     BYC상신점  상신점         D       소매       D05     의복의류    D05A07   \n",
       "\n",
       "    상권업종소분류명 표준산업분류코드  ...                     건물관리번호     건물명  \\\n",
       "0  한식/백반/한정식   I56111  ...  1174010200102170000018014  고덕그라시움   \n",
       "1  한식/백반/한정식   I56111  ...  1144012400103900067027687     NaN   \n",
       "2  한식/백반/한정식   I56111  ...  1144012000103950112010755     NaN   \n",
       "3  한식/백반/한정식   I56111  ...  1162010200101180033018722     NaN   \n",
       "4   셔츠/내의/속옷      NaN  ...  1171011300100360000022458    성암빌딩   \n",
       "\n",
       "                  도로명주소   구우편번호   신우편번호  동정보  층정보  호정보          경도         위도  \n",
       "0     서울특별시 강동구 고덕로 333  134082  5224.0  NaN  NaN  NaN  127.159471  37.556197  \n",
       "1   서울특별시 마포구 동교로38안길 7  121867  3982.0  NaN  NaN  NaN  126.924660  37.562176  \n",
       "2  서울특별시 마포구 잔다리로3안길 23  121840  4043.0  NaN  NaN  NaN  126.919845  37.550689  \n",
       "3    서울특별시 관악구 신림로14길 3  151856  8839.0  NaN  NaN  NaN  126.937790  37.471190  \n",
       "4     서울특별시 송파구 오금로 527  138110  5768.0  NaN    1  NaN  127.147321  37.493054  \n",
       "\n",
       "[5 rows x 39 columns]"
      ]
     },
     "execution_count": 19,
     "metadata": {},
     "output_type": "execute_result"
    }
   ],
   "source": [
    "market_data = pd.read_csv('market_data.csv', encoding='utf-8', sep='|')\n",
    "market_data.head()"
   ]
  },
  {
   "cell_type": "markdown",
   "id": "prerequisite-webster",
   "metadata": {},
   "source": [
    "데이터가 잘 분류된 것을 확인할 수 있었다.\n",
    "카페만 따로 떼서 볼 수 있을까?"
   ]
  },
  {
   "cell_type": "code",
   "execution_count": 20,
   "id": "sapphire-treasury",
   "metadata": {},
   "outputs": [],
   "source": [
    "cafe_data = market_data[market_data[\"상권업종중분류명\"] == '커피점/카페']"
   ]
  },
  {
   "cell_type": "code",
   "execution_count": 21,
   "id": "worth-macro",
   "metadata": {},
   "outputs": [
    {
     "data": {
      "text/plain": [
       "37              커피빈\n",
       "129           요거프레소\n",
       "280        406번째스토브\n",
       "281           로얄커피숍\n",
       "297          빈트리망원점\n",
       "            ...    \n",
       "346537    로컬스티치북앤커피\n",
       "346538         카페시모\n",
       "346539         만랩커피\n",
       "346540        레프트커피\n",
       "346541        더쌍화커피\n",
       "Name: 상호명, Length: 22239, dtype: object"
      ]
     },
     "execution_count": 21,
     "metadata": {},
     "output_type": "execute_result"
    }
   ],
   "source": [
    "cafe_data[\"상호명\"]"
   ]
  },
  {
   "cell_type": "markdown",
   "id": "nominated-pasta",
   "metadata": {},
   "source": [
    "# 2. 크롤러 기본 동작"
   ]
  },
  {
   "cell_type": "code",
   "execution_count": 1,
   "id": "strong-proposal",
   "metadata": {},
   "outputs": [],
   "source": [
    "from pathlib import Path"
   ]
  },
  {
   "cell_type": "code",
   "execution_count": 2,
   "id": "charged-eligibility",
   "metadata": {},
   "outputs": [],
   "source": [
    "driverPath = Path(r\"/Users/jun/My Works/utils/chromedriver\")"
   ]
  },
  {
   "cell_type": "code",
   "execution_count": 3,
   "id": "focal-sunrise",
   "metadata": {},
   "outputs": [
    {
     "name": "stdout",
     "output_type": "stream",
     "text": [
      "/Users/jun/My Works/utils/chromedriver\n"
     ]
    }
   ],
   "source": [
    "print(driverPath)"
   ]
  },
  {
   "cell_type": "code",
   "execution_count": 13,
   "id": "composed-while",
   "metadata": {},
   "outputs": [],
   "source": [
    "import selenium\n",
    "from selenium import webdriver"
   ]
  },
  {
   "cell_type": "code",
   "execution_count": 17,
   "id": "completed-ethiopia",
   "metadata": {},
   "outputs": [],
   "source": [
    "with webdriver.Chrome(driverPath) as driver:\n",
    "    driver.get('https://www.diningcode.com/')\n",
    "    driver.implicitly_wait(3)"
   ]
  },
  {
   "cell_type": "code",
   "execution_count": 43,
   "id": "tight-czech",
   "metadata": {},
   "outputs": [],
   "source": [
    "names = pd.read_csv('seoul names.csv', index_col=0)"
   ]
  },
  {
   "cell_type": "code",
   "execution_count": 197,
   "id": "polish-numbers",
   "metadata": {},
   "outputs": [],
   "source": [
    "driver = webdriver.Chrome(driverPath)"
   ]
  },
  {
   "cell_type": "code",
   "execution_count": 191,
   "id": "turkish-novelty",
   "metadata": {},
   "outputs": [],
   "source": [
    "base_url = \"https://www.diningcode.com/2018/ajax/list.php\""
   ]
  },
  {
   "cell_type": "code",
   "execution_count": 192,
   "id": "suspended-shoot",
   "metadata": {},
   "outputs": [
    {
     "data": {
      "text/plain": [
       "'둔촌2동'"
      ]
     },
     "execution_count": 192,
     "metadata": {},
     "output_type": "execute_result"
    }
   ],
   "source": [
    "names.iloc[0].item()"
   ]
  },
  {
   "cell_type": "code",
   "execution_count": 193,
   "id": "fifth-empty",
   "metadata": {},
   "outputs": [],
   "source": [
    "page = 1"
   ]
  },
  {
   "cell_type": "code",
   "execution_count": 194,
   "id": "conceptual-government",
   "metadata": {},
   "outputs": [],
   "source": [
    "url = base_url + '?' + 'query=' + names.iloc[0].item() + '카페' + '&' + 'page=' + str(page)"
   ]
  },
  {
   "cell_type": "code",
   "execution_count": 198,
   "id": "steady-reggae",
   "metadata": {},
   "outputs": [],
   "source": [
    "driver.get(url)"
   ]
  },
  {
   "cell_type": "code",
   "execution_count": 199,
   "id": "short-pathology",
   "metadata": {},
   "outputs": [],
   "source": [
    "html = driver.page_source"
   ]
  },
  {
   "cell_type": "code",
   "execution_count": 200,
   "id": "southern-color",
   "metadata": {},
   "outputs": [],
   "source": [
    "soup = BeautifulSoup(html, 'html.parser')"
   ]
  },
  {
   "cell_type": "code",
   "execution_count": 201,
   "id": "immediate-preview",
   "metadata": {},
   "outputs": [
    {
     "data": {
      "text/plain": [
       "'엘리펀트커피'"
      ]
     },
     "execution_count": 201,
     "metadata": {},
     "output_type": "execute_result"
    }
   ],
   "source": [
    "soup.find_all(\"span\", class_=\"btxt\")[0].text.split(' ', 1)[1] # span 태그 btxt를 찾아서 i번째 원소의 텍스트를 추출하고 첫 번째 ' '에서 잘라(번호 제거) 저장"
   ]
  },
  {
   "cell_type": "code",
   "execution_count": 202,
   "id": "measured-worse",
   "metadata": {},
   "outputs": [
    {
     "data": {
      "text/plain": [
       "[<span class=\"review button\" onclick=\"getReview('kZDSMy8d7k1O');\">2</span>,\n",
       " <span class=\"review button\" onclick=\"getReview('pfEZzZ1KBNju');\">4</span>,\n",
       " <span class=\"review button\" onclick=\"getReview('OuVvge8e89rJ');\">2</span>,\n",
       " <span class=\"review button\" onclick=\"getReview('5h79CutHiwLz');\">1</span>,\n",
       " <span class=\"review button\" onclick=\"getReview('0CdvoPI1DxDU');\">1</span>,\n",
       " <span class=\"review button\" onclick=\"getReview('5e9wVZmdxQ2L');\">0</span>,\n",
       " <span class=\"review button\" onclick=\"getReview('RZr5rLdepctH');\">1</span>,\n",
       " <span class=\"review button\" onclick=\"getReview('8MM6o27sXlay');\">0</span>,\n",
       " <span class=\"review button\" onclick=\"getReview('V7GIu2tZnAN8');\">0</span>,\n",
       " <span class=\"review button\" onclick=\"getReview('Qjlu7CDgARf9');\">0</span>]"
      ]
     },
     "execution_count": 202,
     "metadata": {},
     "output_type": "execute_result"
    }
   ],
   "source": [
    "soup.find_all(\"span\", class_=\"review button\")"
   ]
  },
  {
   "cell_type": "code",
   "execution_count": 205,
   "id": "arctic-sessions",
   "metadata": {},
   "outputs": [],
   "source": [
    "cafe_list = [data.text.split(' ', 1)[1] for data in soup.find_all(\"span\", class_=\"btxt\")]\n",
    "cafe_link = [data.get(\"href\") for data in soup.find_all(\"a\", class_='blink')]\n",
    "review_counts = [int(data.text) for data in soup.find_all(\"span\", class_=\"review button\")]"
   ]
  },
  {
   "cell_type": "code",
   "execution_count": 101,
   "id": "precise-ribbon",
   "metadata": {},
   "outputs": [
    {
     "data": {
      "text/plain": [
       "10"
      ]
     },
     "execution_count": 101,
     "metadata": {},
     "output_type": "execute_result"
    }
   ],
   "source": [
    "len(cafe_list)"
   ]
  },
  {
   "cell_type": "code",
   "execution_count": 206,
   "id": "apparent-pharmacology",
   "metadata": {},
   "outputs": [
    {
     "data": {
      "text/plain": [
       "[2, 4, 2, 1, 1, 0, 1, 0, 0, 0]"
      ]
     },
     "execution_count": 206,
     "metadata": {},
     "output_type": "execute_result"
    }
   ],
   "source": [
    "review_counts"
   ]
  },
  {
   "cell_type": "markdown",
   "id": "under-morrison",
   "metadata": {},
   "source": [
    "한 번에 다 수행하는 크롤러 동작! (카페의 이름을 가져오는 방향)"
   ]
  },
  {
   "cell_type": "code",
   "execution_count": 207,
   "id": "monthly-planner",
   "metadata": {},
   "outputs": [],
   "source": [
    "base_url = \"https://www.diningcode.com/2018/ajax/list.php\"\n",
    "total_cafe = []\n",
    "\n",
    "with webdriver.Chrome(driverPath) as driver:\n",
    "    # 각 카페의 이름을 가져옵니다.\n",
    "    for index, data in names[:10].iterrows():\n",
    "        page = 1\n",
    "        while(True):\n",
    "            url = base_url + '?' + 'query=' + names.iloc[0].item() + '카페' + '&' + 'page=' + str(page) # 주소 설정\n",
    "            driver.get(url) # 크롬으로 페이지 접속\n",
    "            html = driver.page_source # 페이지 소스 저장\n",
    "            soup = BeautifulSoup(html, 'html.parser') # 스프로 파싱\n",
    "            \n",
    "            # 데이터에서 텍스트를 추출합니다\n",
    "            cafe_list = [data.text.split(' ', 1)[1] for data in soup.find_all(\"span\", class_=\"btxt\")]\n",
    "            cafe_link = [data.get(\"href\") for data in soup.find_all(\"a\", class_='blink')]\n",
    "            review_counts = [int(data.text) for data in soup.find_all(\"span\", class_=\"review button\")]\n",
    "            \n",
    "            # 추출한 데이터를 묶어서 반복합니다.\n",
    "            for pair in zip(cafe_list, cafe_link, review_counts):\n",
    "                \n",
    "                if pair[2] != 0: # 리뷰가 있는 카페만 크롤링합니다.\n",
    "                    # 데이터 저장용 딕셔너리를 생성합니다\n",
    "                    cafe_dict = {\n",
    "                            'name': pair[0],\n",
    "                            'link': pair[1]\n",
    "                    }\n",
    "\n",
    "                    # 만든 딕셔너리가 배열에 없으면 추가합니다.\n",
    "                    if cafe_dict not in total_cafe:\n",
    "                        total_cafe.append(cafe_dict)\n",
    "            \n",
    "            if len(cafe_list) != 10: break # 목록이 10개 미만이면 최대 개수에 도달했다는 뜻입니다.   \n",
    "            page += 1\n",
    "            \n",
    "    "
   ]
  },
  {
   "cell_type": "code",
   "execution_count": 208,
   "id": "discrete-thriller",
   "metadata": {},
   "outputs": [
    {
     "data": {
      "text/plain": [
       "[{'name': '엘리펀트커피', 'link': '/profile.php?rid=kZDSMy8d7k1O'},\n",
       " {'name': '드 까르멜릿', 'link': '/profile.php?rid=pfEZzZ1KBNju'},\n",
       " {'name': '전광수 커피하우스 천호동점', 'link': '/profile.php?rid=OuVvge8e89rJ'},\n",
       " {'name': '카페 원앤온리', 'link': '/profile.php?rid=5h79CutHiwLz'},\n",
       " {'name': '외계인커피', 'link': '/profile.php?rid=0CdvoPI1DxDU'},\n",
       " {'name': '바내', 'link': '/profile.php?rid=RZr5rLdepctH'}]"
      ]
     },
     "execution_count": 208,
     "metadata": {},
     "output_type": "execute_result"
    }
   ],
   "source": [
    "total_cafe"
   ]
  },
  {
   "cell_type": "code",
   "execution_count": 225,
   "id": "functional-insight",
   "metadata": {},
   "outputs": [],
   "source": [
    "driver = webdriver.Chrome(driverPath)"
   ]
  },
  {
   "cell_type": "code",
   "execution_count": 223,
   "id": "fatal-postage",
   "metadata": {},
   "outputs": [],
   "source": [
    "url = \"https://www.diningcode.com/profile.php?rid=5h79CutHiwLz\""
   ]
  },
  {
   "cell_type": "code",
   "execution_count": 226,
   "id": "funky-bulletin",
   "metadata": {},
   "outputs": [],
   "source": [
    "driver.get(url)"
   ]
  },
  {
   "cell_type": "code",
   "execution_count": 227,
   "id": "experienced-pointer",
   "metadata": {},
   "outputs": [],
   "source": [
    "driver.find_element_by_xpath(\"//*[@id='div_profile']/div[1]/ul/li[1]\").click()"
   ]
  },
  {
   "cell_type": "code",
   "execution_count": 228,
   "id": "korean-corner",
   "metadata": {},
   "outputs": [],
   "source": [
    "driver.find_element_by_xpath(\"//*[@id='full-area']/div[6]/span[2]\").click()"
   ]
  },
  {
   "cell_type": "code",
   "execution_count": 213,
   "id": "chubby-living",
   "metadata": {},
   "outputs": [],
   "source": [
    "img = driver.find_element_by_id('display-img')\n",
    "src = img.get_attribute('src')"
   ]
  },
  {
   "cell_type": "code",
   "execution_count": 214,
   "id": "composite-aluminum",
   "metadata": {},
   "outputs": [
    {
     "data": {
      "text/plain": [
       "('image.jpg', <http.client.HTTPMessage at 0x7ffa04749310>)"
      ]
     },
     "execution_count": 214,
     "metadata": {},
     "output_type": "execute_result"
    }
   ],
   "source": [
    "urllib.request.urlretrieve(src, \"image.jpg\")"
   ]
  },
  {
   "cell_type": "code",
   "execution_count": 233,
   "id": "attempted-natural",
   "metadata": {},
   "outputs": [],
   "source": [
    "driver.find_element_by_class_name('btn-gallery-next').click()"
   ]
  },
  {
   "cell_type": "code",
   "execution_count": 234,
   "id": "binary-layout",
   "metadata": {},
   "outputs": [],
   "source": [
    "driver.close()"
   ]
  },
  {
   "cell_type": "markdown",
   "id": "weekly-oriental",
   "metadata": {},
   "source": [
    "이미지를 저장하는 크롤러를 만듭니다."
   ]
  },
  {
   "cell_type": "code",
   "execution_count": 248,
   "id": "lightweight-quilt",
   "metadata": {},
   "outputs": [],
   "source": [
    "# 카페 상세정보 link는 uri가 포함되어있습니다.\n",
    "base_url = \"https://www.diningcode.com/\"\n",
    "src = \"\"\n",
    "\n",
    "with webdriver.Chrome(driverPath) as driver:\n",
    "    for cafe in total_cafe[:1]:\n",
    "\n",
    "        # url 생성 후 접근\n",
    "        url = base_url + cafe['link']\n",
    "        driver.get(url)\n",
    "        \n",
    "        # 첫 번째 사진 클릭 (사진 모드로 들어갑니다)\n",
    "        driver.find_element_by_xpath(\"//*[@id='div_profile']/div[1]/ul/li[1]\").click()\n",
    "        driver.implicitly_wait(3) # 버튼이 등장할때까지 기다립니다.\n",
    "        # 음식/실내외 버튼 클릭\n",
    "        driver.find_element_by_xpath(\"//*[@id='full-area']/div[6]/span[2]\").click()\n",
    "        \n",
    "        # 3장을 가져와야 하므로 3번 반복합니다\n",
    "        for i in range(3):\n",
    "            img = driver.find_element_by_id('display-img')\n",
    "            \n",
    "            if src == img.get_attribute('src') : break # 이미지가 3장 미만인경우, 버튼 클릭이 안 돼서 사진이 넘어가지 않습니다. 앞과 같은 사진이면 반복을 중지합니다.\n",
    "                \n",
    "            # 앞과 다른 사진이면 src 변수를 업데이트합니다.\n",
    "            src = img.get_attribute('src')\n",
    "            # 카페이름/image[번호].jpg 로 저장합니다.\n",
    "            \n",
    "            dirName = Path(\"images/\" + cafe['name'])\n",
    "            \n",
    "            if not os.path.isdir(dirName):\n",
    "                os.makedirs(dirName)\n",
    "            urllib.request.urlretrieve(src, os.path.join(dirName, str(i+1) + \".jpg\"))\n",
    "            \n",
    "            # 다음 버튼을 클릭합니다.\n",
    "            driver.find_element_by_class_name('btn-gallery-next').click()\n",
    "            driver.implicitly_wait(1)"
   ]
  },
  {
   "cell_type": "markdown",
   "id": "radio-cricket",
   "metadata": {},
   "source": [
    "# 전체 크롤러\n",
    "파이썬 모듈화용 크롤러 입니다."
   ]
  },
  {
   "cell_type": "code",
   "execution_count": null,
   "id": "shared-scottish",
   "metadata": {},
   "outputs": [],
   "source": [
    "import pandas as pd\n",
    "from bs4 import BeautifulSoup\n",
    "import urllib\n",
    "import os\n",
    "from pathlib import Path\n",
    "import selenium\n",
    "from selenium import webdriver\n",
    "# 예외처리 위한 라이브러리\n",
    "from selenium.common.exceptions import NoSuchElementException,StaleElementReferenceException\n",
    "\n",
    "driverPath = Path(r\"/Users/jun/My Works/utils/chromedriver\") # 드라이버 경로 설정\n",
    "names = pd.read_csv('seoul names.csv', index_col=0) # 서울시 행정구역 정보 불러오기\n",
    "\n",
    "base_url = \"https://www.diningcode.com/2018/ajax/list.php\"\n",
    "total_cafe = []\n",
    "name_list = [] \n",
    "main_tag_list = []\n",
    "score_list = []\n",
    "star_score = []\n",
    "like = []\n",
    "locate = []\n",
    "taste_score = []\n",
    "price_score = []\n",
    "service_score = []\n",
    "feat_text=[]\n",
    "\n",
    "\n",
    "with webdriver.Chrome(driverPath) as driver:\n",
    "    \n",
    "    # ---------카페 이름, 링크 크롤링 ----------------\n",
    "    # 각 카페의 이름을 가져옵니다.\n",
    "    for index, data in names[:10].iterrows():\n",
    "        page = 1 # 한 페이지에 10개씩 보여줍니다.\n",
    "        while(True):\n",
    "            url = base_url + '?' + 'query=' + names.iloc[0].item() + '카페' + '&' + 'page=' + str(page) # 주소 설정\n",
    "            driver.get(url) # 크롬으로 페이지 접속\n",
    "            html = driver.page_source # 페이지 소스 저장\n",
    "            soup = BeautifulSoup(html, 'html.parser') # 스프로 파싱\n",
    "            \n",
    "            # 데이터에서 텍스트를 추출합니다\n",
    "            cafe_list = [data.text.split(' ', 1)[1] for data in soup.find_all(\"span\", class_=\"btxt\")]\n",
    "            cafe_link = [data.get(\"href\") for data in soup.find_all(\"a\", class_='blink')]\n",
    "            review_counts = [int(data.text) for data in soup.find_all(\"span\", class_=\"review button\")]\n",
    "            \n",
    "            # 추출한 데이터를 묶어서 반복합니다.\n",
    "            for pair in zip(cafe_list, cafe_link, review_counts):\n",
    "                \n",
    "                if pair[2] != 0: # 리뷰가 있는 카페만 크롤링합니다.\n",
    "                    # 데이터 저장용 딕셔너리를 생성합니다\n",
    "                    cafe_dict = {\n",
    "                            'name': pair[0],\n",
    "                            'link': pair[1]\n",
    "                    }\n",
    "\n",
    "                    # 만든 딕셔너리가 배열에 없으면 추가합니다.\n",
    "                    if cafe_dict not in total_cafe:\n",
    "                        total_cafe.append(cafe_dict)\n",
    "            \n",
    "            if len(cafe_list) != 10: break # 목록이 10개 미만이면 최대 개수에 도달했다는 뜻입니다.   \n",
    "            page += 1\n",
    "            \n",
    "    \n",
    "    # --------- 이미지 크롤링 --------\n",
    "    # 카페 상세정보 link는 uri가 포함되어있습니다.\n",
    "    base_url = \"https://www.diningcode.com/\"\n",
    "    src = \"\"\n",
    "    \n",
    "    # 위에서 생성된 total_cafe 배열을 사용해 접근합니다.\n",
    "    for cafe in total_cafe[:1]:\n",
    "\n",
    "        # url 생성 후 접근\n",
    "        url = base_url + cafe['link']\n",
    "        driver.get(url)\n",
    "        \n",
    "        # 첫 번째 사진 클릭 (사진 모드로 들어갑니다)\n",
    "        driver.find_element_by_xpath(\"//*[@id='div_profile']/div[1]/ul/li[1]\").click()\n",
    "        driver.implicitly_wait(3) # 버튼이 등장할때까지 기다립니다.\n",
    "        # 음식/실내외 버튼 클릭\n",
    "        driver.find_element_by_xpath(\"//*[@id='full-area']/div[6]/span[2]\").click()\n",
    "        \n",
    "        # 3장을 가져와야 하므로 3번 반복합니다\n",
    "        for i in range(3):\n",
    "            img = driver.find_element_by_id('display-img')\n",
    "            \n",
    "            if src == img.get_attribute('src') : break # 이미지가 3장 미만인경우, 버튼 클릭이 안 돼서 사진이 넘어가지 않습니다. 앞과 같은 사진이면 반복을 중지합니다.\n",
    "                \n",
    "            # 앞과 다른 사진이면 src 변수를 업데이트합니다.\n",
    "            src = img.get_attribute('src')\n",
    "            # 카페이름/image[번호].jpg 로 저장합니다.\n",
    "            \n",
    "            dirName = Path(\"images/\" + cafe['name'])\n",
    "            \n",
    "            if not os.path.isdir(dirName):\n",
    "                os.makedirs(dirName)\n",
    "            urllib.request.urlretrieve(src, os.path.join(dirName, str(i+1) + \".jpg\"))\n",
    "            \n",
    "            # 다음 버튼을 클릭합니다.\n",
    "            driver.find_element_by_class_name('btn-gallery-next').click()\n",
    "            driver.implicitly_wait(1)\n",
    "    \n",
    "    \n",
    "    # url 생성 후 접근\n",
    "    url = base_url + cafe['link']\n",
    "    driver.get(url)\n",
    "    try:\n",
    "        # 카페명\n",
    "        name_list.append(driver.find_element_by_xpath(\"//*[@id='div_profile']/div[1]/div[2]/p\").text)\n",
    "    except NoSuchElementException:\n",
    "        name_list.append('-')\n",
    "    try:\n",
    "        #메인태그\n",
    "        main_tag_list.append(driver.find_element_by_xpath(\"//*[@id='div_profile']/div[2]/ul/li[3]/span\").text)    \n",
    "    except NoSuchElementException:\n",
    "        main_tag_list.append('-')\n",
    "    try:\n",
    "        # 스코어\n",
    "        score_list.append(driver.find_element_by_xpath(\"//*[@id='div_profile']/div[1]/div[4]/p/strong\").text)\n",
    "    except NoSuchElementException:\n",
    "        score_list.append('-')\n",
    "    try:\n",
    "        # 별점 5점 만점\n",
    "        star_score.append(driver.find_element_by_xpath(\"//*[@id='lbl_review_point']\").text)\n",
    "    except NoSuchElementException:\n",
    "        star_score_list.append('-')\n",
    "        \n",
    "    try:\n",
    "        # 좋아요수\n",
    "        like.append(driver.find_element_by_xpath(\"//*[@id='div_profile']/div[1]/div[5]/a[1]/span/i\").text)\n",
    "    except NoSuchElementException:\n",
    "        like_list.append('-')\n",
    "    try:\n",
    "        # 주소\n",
    "        locate.append(driver.find_element_by_xpath(\"//*[@id='div_profile']/div[2]/ul/li[1]\").text)\n",
    "    except NoSuchElementException:\n",
    "        locate_list.append\n",
    "    try:\n",
    "        # 맛 스코어\n",
    "        taste_score.append(driver.find_element_by_xpath(\"//*[@id='div_profile']/div[8]/div[1]/p[2]/span[1]/i\").text)\n",
    "    except NoSuchElementException:\n",
    "        taste_score.append('-')\n",
    "    try:\n",
    "        # 가격 스코어\n",
    "        price_score.append(driver.find_element_by_xpath(\"//*[@id='div_profile']/div[8]/div[1]/p[2]/span[2]/i\").text)\n",
    "    except NoSuchElementException:\n",
    "        price_score.append('-')\n",
    "    try:\n",
    "        # 서비스 스코어\n",
    "        service_score.append(driver.find_element_by_xpath(\"//*[@id='div_profile']/div[8]/div[1]/p[2]/span[3]/i\").text)\n",
    "    except NoSuchElementException:\n",
    "        service_score.append('-')\n",
    "    try:\n",
    "        # 특징\n",
    "        feat_text.append(driver.find_element_by_xpath(\"//*[@id='div_profile']/div[2]/ul/li[4]\").text)\n",
    "    except NoSuchElementException:\n",
    "        feat_text.append('-')"
   ]
  },
  {
   "cell_type": "code",
   "execution_count": null,
   "id": "pregnant-temperature",
   "metadata": {},
   "outputs": [],
   "source": [
    "crawling_data = pd.DataFrame([name_list,main_tag_list,score_list,star_score,like,locate,taste_score,price_score,service_score,feat_text]).T\n",
    "crawling_data.columns = ['name','main_tag','score','star_score','like','locate','taste_score','price_score','service_score','feat_text']\n",
    "crawling_data"
   ]
  }
 ],
 "metadata": {
  "kernelspec": {
   "display_name": "Tobigs",
   "language": "python",
   "name": "tobigs"
  },
  "language_info": {
   "codemirror_mode": {
    "name": "ipython",
    "version": 3
   },
   "file_extension": ".py",
   "mimetype": "text/x-python",
   "name": "python",
   "nbconvert_exporter": "python",
   "pygments_lexer": "ipython3",
   "version": "3.7.10"
  }
 },
 "nbformat": 4,
 "nbformat_minor": 5
}
